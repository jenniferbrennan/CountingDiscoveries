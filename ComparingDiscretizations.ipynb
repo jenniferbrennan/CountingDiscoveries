{
 "cells": [
  {
   "cell_type": "markdown",
   "metadata": {},
   "source": [
    "## Our estimator operates by discretizing the parameter space and the observation space. A finer discretization is more accurate, but takes longer to run. In this notebook, we examine this trade-off in the two-spike Gaussian setting, to inform our choices in our other experiments."
   ]
  },
  {
   "cell_type": "code",
   "execution_count": null,
   "metadata": {},
   "outputs": [],
   "source": [
    "from estimator import KS_test, binarySearch\n",
    "from utils import construct_A_gaussian\n",
    "import numpy as np\n",
    "import matplotlib.pyplot as plt\n",
    "import os\n",
    "import pickle\n",
    "from multiprocessing import Pool, freeze_support\n",
    "from time import time"
   ]
  },
  {
   "cell_type": "code",
   "execution_count": null,
   "metadata": {
    "scrolled": false
   },
   "outputs": [],
   "source": [
    "# For several different values of the discretization, estimate zetaHat(0) and zetaHat(1/10 mu2)\n",
    "# as well as the time it takes to run.\n",
    "# Do this across n-values, in case that changes the answer.\n",
    "\n",
    "# Timing: Running the full set of trials took me ~16 hours, parallelized across a 96-Xeon machine (but only using 20 of them)\n",
    "\n",
    "numTrials = 20\n",
    "NUM_CORES = 20\n",
    "sigma = 1\n",
    "mu2s = [1, 2]\n",
    "alpha = 0.05\n",
    "zeta = 0.1\n",
    "tolerance = 0.0001\n",
    "padding = 5\n",
    "\n",
    "discretizations = [100, 300, 500, 700, 900, 1100]\n",
    "nVals = [10**4, 10**6]\n",
    "\n",
    "folderName = \"discretizationTests\"\n",
    "if not os.path.exists(folderName):\n",
    "    os.makedirs(folderName)\n",
    "    \n",
    "for mu2 in mu2s:\n",
    "    for n in nVals:\n",
    "        for threshold in [0, mu2/10.0]:\n",
    "            #Store all the results, so we can plot one line per random draw of the data\n",
    "            zetaHatLists = np.zeros((len(discretizations), numTrials))\n",
    "            times = []\n",
    "\n",
    "            # Draw the data ONCE, and then try each discretization on that same draw.\n",
    "            # This gives us a better idea of how discretization affects zetaHat, where the\n",
    "            # randomess is only between trials, not between discretizations as well\n",
    "            # We draw numTrials copies of the data, so we can parallelize over the copies in the next loop\n",
    "            observationList = []\n",
    "            for i in range(numTrials):\n",
    "                mu = np.random.choice([0, mu2], size=(n,1), replace=True, p=[1-zeta, zeta])\n",
    "                noise = np.random.randn(n, 1)*sigma\n",
    "                observations = mu + noise\n",
    "                observationList.append(observations)\n",
    "\n",
    "            for (i, disc) in enumerate(discretizations):\n",
    "                print(n, threshold, disc)\n",
    "                try:\n",
    "                    # We may want to start and stop this task; this allows us to pick up where we left off\n",
    "                    # Aaag, this doesn't really work, since we won't have saved the random draw of our observations...\n",
    "                    # Really, we needed to save the observationList separately\n",
    "                    zetaHats, elapsedTime = pickle.load(open(folderName+\"/zetaHats_\"+str(n)+str(threshold)+str(mu2)+str(disc)+\".p\", 'rb'))\n",
    "                except:\n",
    "                    # If the file didn't exist, re-collect it\n",
    "                    t = time()\n",
    "                    # Fit the observations to the new grid, get the A matrix\n",
    "                    grid = np.linspace(0-padding, mu2+padding, disc)\n",
    "                    A = construct_A_gaussian(grid, sigma**2)\n",
    "\n",
    "                    jobs = [(observationList[i], threshold, tolerance, alpha, KS_test, grid, grid, sigma, A) for i in range(numTrials)]\n",
    "                    with Pool(NUM_CORES) as p:\n",
    "                        zetaHats = p.starmap(binarySearch, jobs)\n",
    "\n",
    "                    elapsedTime = (time()-t)/60\n",
    "                    print('    (Elapsed time: {0:8.1f} minutes)'.format(elapsedTime))\n",
    "                    pickle.dump((zetaHats, elapsedTime), open(folderName+\"/zetaHats_\"+str(n)+str(threshold)+str(mu2)+str(disc)+\".p\", 'wb'))\n",
    "\n",
    "                # Store results\n",
    "                zetaHatLists[i,:] = zetaHats\n",
    "\n",
    "                times.append(elapsedTime)\n",
    "                  \n",
    "            for i in range(numTrials):\n",
    "                plt.plot(discretizations, zetaHatLists[:,i])\n",
    "            plt.title(\"Estimate vs. discretization for threshold \"+str(threshold)+\", mu2 \"+str(mu2)+\" and n=\"+str(n))\n",
    "            plt.xlabel(\"Discretization\")\n",
    "            plt.ylabel(\"Estimate zetaHat\")\n",
    "            plt.savefig(folderName+\"/plotEstimate_\"+str(n)+str(threshold)+str(mu2)+\".png\")\n",
    "            plt.show()\n",
    "\n",
    "            plt.plot(discretizations, times)\n",
    "            plt.title(\"Total elapsed time across \"+str(numTrials)+\" trials and \"+str(NUM_CORES)+\" cores\")\n",
    "            plt.xlabel(\"Discretization\")\n",
    "            plt.ylabel(\"Elapsed time (min)\")\n",
    "            plt.savefig(folderName+\"/plotTime_\"+str(n)+str(threshold)+str(mu2)+\".png\")\n",
    "            plt.show()\n",
    "\n"
   ]
  },
  {
   "cell_type": "code",
   "execution_count": null,
   "metadata": {},
   "outputs": [],
   "source": []
  }
 ],
 "metadata": {
  "kernelspec": {
   "display_name": "Python 3",
   "language": "python",
   "name": "python3"
  },
  "language_info": {
   "codemirror_mode": {
    "name": "ipython",
    "version": 3
   },
   "file_extension": ".py",
   "mimetype": "text/x-python",
   "name": "python",
   "nbconvert_exporter": "python",
   "pygments_lexer": "ipython3",
   "version": "3.7.4"
  }
 },
 "nbformat": 4,
 "nbformat_minor": 2
}
