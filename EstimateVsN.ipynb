{
 "cells": [
  {
   "cell_type": "markdown",
   "metadata": {},
   "source": [
    "# Explore the performance of our estimator in the two-spike Gaussian setting, for different values of gamma* (the alternate mean), as n increases"
   ]
  },
  {
   "cell_type": "code",
   "execution_count": null,
   "metadata": {},
   "outputs": [],
   "source": [
    "from syntheticExperimentWrappers import drawAndEstimate_GaussianTwoSpike\n",
    "import numpy as np\n",
    "import matplotlib.pyplot as plt\n",
    "from time import time\n",
    "from multiprocessing import Pool, freeze_support\n",
    "import pickle\n",
    "import scipy\n",
    "import os"
   ]
  },
  {
   "cell_type": "code",
   "execution_count": null,
   "metadata": {},
   "outputs": [],
   "source": [
    "NUM_CORES = 30"
   ]
  },
  {
   "cell_type": "code",
   "execution_count": null,
   "metadata": {},
   "outputs": [],
   "source": [
    "folderName = \"zetaHatVsN\"\n",
    "if not os.path.exists(folderName):\n",
    "    os.makedirs(folderName)"
   ]
  },
  {
   "cell_type": "code",
   "execution_count": null,
   "metadata": {},
   "outputs": [],
   "source": [
    "# Plot the estimate zetaHat(0)\n",
    "# as n increases\n",
    "# for different separation regimes\n",
    "\n",
    "discretization = 1000\n",
    "sigma = 1\n",
    "zeta = 0.1\n",
    "tolerance = 0.001\n",
    "numSamples = 100\n",
    "alpha = 0.05\n",
    "linestyleList = [\"-\", \"--\", \":\", \"-.\"]\n",
    "threshold = 0\n",
    "\n",
    "zetaHatDict = dict()\n",
    "plt.rcParams[\"font.size\"] = 16\n",
    "plt.rcParams[\"figure.figsize\"] = [7,4.5]\n",
    "ax = plt.subplot(111)\n",
    "plt.tight_layout(pad=2)\n",
    "ax.spines['right'].set_visible(False)\n",
    "ax.spines['top'].set_visible(False)\n",
    "for i, mu2 in enumerate([0.5, 1, 3, 5]):\n",
    "    print(mu2)\n",
    "    zetaHatDict[mu2] = dict()\n",
    "    nVals = [2**i for i in range(7, 20)]\n",
    "    avgZetaHats = []\n",
    "    lbZetaHats = []\n",
    "    ubZetaHats = []\n",
    "    theoryLBs = []\n",
    "    for n in nVals:\n",
    "        try:\n",
    "            # We may want to start and stop this task; this allows us to pick up where we left off\n",
    "            zetaHats = pickle.load(open(\"./zetaHatVsN/zetaHats_\"+str(n)+str(mu2)+\".p\", 'rb'))\n",
    "        except:\n",
    "            # If the file didn't exist, re-collect it\n",
    "            t = time()\n",
    "            print(n)\n",
    "            # Redraw the values every time\n",
    "            jobs = [(threshold, n, zeta, mu2, discretization, sigma, tolerance, \"KS\", alpha) for _ in range(numSamples)]\n",
    "            with Pool(NUM_CORES) as p:\n",
    "                zetaHats = p.starmap(drawAndEstimate_GaussianTwoSpike, jobs)\n",
    "\n",
    "            print('    (Elapsed time: {0:8.1f} minutes)'.format((time()-t)/60))\n",
    "            pickle.dump(zetaHats, open(\"./zetaHatVsN/zetaHats_\"+str(n)+str(mu2)+\".p\", 'wb'))\n",
    "        \n",
    "        \n",
    "        zetaHatDict[mu2][n] = zetaHats\n",
    "        avgZetaHats.append(np.median(zetaHats))\n",
    "        zetaHats = np.sort(zetaHats)\n",
    "        lbZetaHats.append(zetaHats[5]) # 5th percentile, if we have 100 samples\n",
    "        ubZetaHats.append(zetaHats[-6]) # 95th percentile, with 100 samples\n",
    "        \n",
    "        lb = zeta - np.sqrt(2*np.log(2/(alpha**2))/(n*(scipy.stats.norm.cdf(0.5*mu2) - scipy.stats.norm.cdf(-0.5*mu2))**2))\n",
    "        theoryLB = np.max([0, lb])\n",
    "        theoryLBs.append(theoryLB)\n",
    "    \n",
    "    # You could also choose to plot the theoretical lower bound, which gives a nice\n",
    "    # agreement. But it makes the plot too busy.\n",
    "    plt.semilogx(nVals, avgZetaHats, label=str(mu2), linestyle=linestyleList[i])\n",
    "    plt.fill_between(nVals, lbZetaHats, ubZetaHats, alpha=0.2)\n",
    "    #plt.semilogx(nVals, theoryLBs, color='C'+str(i), linestyle=':')\n",
    "\n",
    "\n",
    "plt.axhline(y=zeta, xmin=0, xmax=20, linestyle='--', color=\"k\")\n",
    "plt.legend(title=r'$\\gamma_*$', loc=\"lower right\")\n",
    "plt.xlabel(\"Number of hypotheses tested, n\")\n",
    "plt.ylabel(r'Estimated mass above zero, $\\hat{\\zeta}_n(0)$')\n",
    "#plt.title(r'Median $\\hat{\\zeta}_n(0)$ with empirical 90% CIs from '+str(numSamples)+' samples')#\\nwith theoretical lower bounds')\n",
    "plt.savefig(\"./ZetaVsN.png\")\n",
    "plt.savefig(\"./ZetaVsN.eps\")\n",
    "plt.savefig(\"./ZetaVsN.pdf\")"
   ]
  },
  {
   "cell_type": "code",
   "execution_count": null,
   "metadata": {},
   "outputs": [],
   "source": []
  }
 ],
 "metadata": {
  "kernelspec": {
   "display_name": "Python 3",
   "language": "python",
   "name": "python3"
  },
  "language_info": {
   "codemirror_mode": {
    "name": "ipython",
    "version": 3
   },
   "file_extension": ".py",
   "mimetype": "text/x-python",
   "name": "python",
   "nbconvert_exporter": "python",
   "pygments_lexer": "ipython3",
   "version": "3.7.4"
  }
 },
 "nbformat": 4,
 "nbformat_minor": 2
}
