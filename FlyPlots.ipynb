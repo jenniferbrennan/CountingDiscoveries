{
 "cells": [
  {
   "cell_type": "markdown",
   "metadata": {},
   "source": [
    "# This notebook demonstrates the application of our estimator to the fruit fly genetics data from Hao et. al. (2008)"
   ]
  },
  {
   "cell_type": "code",
   "execution_count": null,
   "metadata": {},
   "outputs": [],
   "source": [
    "import numpy as np\n",
    "import matplotlib.pyplot as plt\n",
    "import csv\n",
    "import scipy.stats\n",
    "from utils import get_counts, construct_A_gaussian, construct_A_gaussian_pdf\n",
    "from otherEstimators import mle\n",
    "from FWER_utils import estimateZeta_FWER_manyThresholds\n",
    "import scipy\n",
    "import pickle\n",
    "from multiprocessing import Pool"
   ]
  },
  {
   "cell_type": "code",
   "execution_count": null,
   "metadata": {},
   "outputs": [],
   "source": [
    "# load raw data\n",
    "X = []\n",
    "k=0\n",
    "l=0\n",
    "# see README.txt for explanation of data. Here we extract two Z-scores per gene (there are 13071 genes)\n",
    "with open('flyData.txt', newline='') as csvfile:\n",
    "    spamreader = csv.DictReader(csvfile,delimiter='\\t')\n",
    "    print(spamreader.fieldnames)\n",
    "    for row in spamreader:\n",
    "        if row['target_name']=='empty':\n",
    "            k +=1\n",
    "        else:\n",
    "            l += 1\n",
    "            first_Z_score = float(row['1 z w/o controls'])\n",
    "            second_Z_score = float(row['2 z w/o controls'])\n",
    "            X.append([first_Z_score, second_Z_score ])\n",
    "print(k,l)\n",
    "X = -np.array(X) # flip sign so large observations are discoveries\n",
    "print(X.shape)\n",
    "\n",
    "mu_hat = np.mean(X, axis=1) # average the 2 Z-scores together\n",
    "sigmaSquared = 0.25  # Our fitted variance; note that the observed distribution is a poor match for the theoretical N(0, 1/2)\n",
    "\n",
    "mu_hat_tStats = mu_hat/np.sqrt(2)  # To generated a t-statistic, divide by the square root of the number of replicates"
   ]
  },
  {
   "cell_type": "code",
   "execution_count": null,
   "metadata": {},
   "outputs": [],
   "source": [
    "#fig, ax = plt.subplots(figsize=(5,4))  # Size for the paper\n",
    "fig, ax = plt.subplots(figsize=(7,4))\n",
    "plt.rcParams[\"font.size\"] = 16\n",
    "ax = plt.subplot(111)\n",
    "ax.spines['right'].set_visible(False)\n",
    "ax.spines['top'].set_visible(False)\n",
    "ax.spines['left'].set_visible(False)\n",
    "frame1 = plt.gca()\n",
    "frame1.axes.get_yaxis().set_visible(False)\n",
    "\n",
    "grid = np.linspace(min(mu_hat), max(mu_hat), 1000)\n",
    "plt.plot(grid, get_counts(mu_hat, grid))\n",
    "#plt.title(\"Distribution of Z-scores for the fly data\")\n",
    "plt.xlabel(\"Z-score\")\n",
    "fwer_cutoff = scipy.stats.norm.ppf(1-0.05/len(mu_hat), scale=np.sqrt(sigmaSquared))\n",
    "plt.vlines(fwer_cutoff, ymin=0, ymax=120, linestyle='--', label=\"Bonferroni\\ncorrected\\ncritical value\")\n",
    "plt.legend()\n",
    "plt.tight_layout(pad=2)\n",
    "plt.savefig(\"zscoresFly-withBF.png\")\n",
    "plt.savefig(\"zscoresFly-withBF.eps\")\n",
    "plt.savefig(\"zscoresFly-withBF.pdf\")"
   ]
  },
  {
   "cell_type": "code",
   "execution_count": null,
   "metadata": {},
   "outputs": [],
   "source": [
    "# Fit the MLE with a less fine grid, to save computation\n",
    "grid_mle = np.linspace(min(mu_hat), max(mu_hat), 1000)\n",
    "b = get_counts(mu_hat, grid_mle)\n",
    "b = b/sum(b)\n",
    "\n",
    "A = construct_A_gaussian_pdf(grid_mle, sigmaSquared=sigmaSquared)"
   ]
  },
  {
   "cell_type": "code",
   "execution_count": null,
   "metadata": {
    "scrolled": true
   },
   "outputs": [],
   "source": [
    "w_mle, _ = mle(A, b, max_iters=10000, verbose=True)"
   ]
  },
  {
   "cell_type": "code",
   "execution_count": null,
   "metadata": {},
   "outputs": [],
   "source": [
    "plt.plot(grid_mle, 85*get_counts(mu_hat, grid_mle)/np.sum(get_counts(mu_hat, grid_mle)))\n",
    "plt.plot(grid_mle, A@w_mle, linewidth=4)\n",
    "plt.show()\n",
    "\n",
    "plt.plot(grid_mle, w_mle)"
   ]
  },
  {
   "cell_type": "code",
   "execution_count": null,
   "metadata": {},
   "outputs": [],
   "source": [
    "grid = np.linspace(min(mu_hat), max(mu_hat), 1000)\n",
    "\n",
    "zetaHats = estimateEntireLine(obs=mu_hat, \n",
    "                              tolerance=1/len(mu_hat), \n",
    "                              alpha=0.05,\n",
    "                              hypTest=KS_test,\n",
    "                              grid=grid,\n",
    "                              gammas=np.linspace(0, 1, 20),\n",
    "                              sigma=np.sqrt(sigmaSquared),\n",
    "                              verbose=False)"
   ]
  },
  {
   "cell_type": "code",
   "execution_count": null,
   "metadata": {},
   "outputs": [],
   "source": [
    "NUM_CORES = 10\n",
    "zetaHats_FWER = estimateZeta_FWER_manyThresholds_parallel(obs=mu_hat, gammas=np.linspace(0, 1, 20),\n",
    "                                                          alpha=0.05, sigma=np.sqrt(sigmaSquared),\n",
    "                                                          distribution=\"normal\", numCores=NUM_CORES)"
   ]
  },
  {
   "cell_type": "code",
   "execution_count": null,
   "metadata": {},
   "outputs": [],
   "source": [
    "fig, ax = plt.subplots(figsize=(7,4))\n",
    "ax = plt.subplot(111)\n",
    "plt.gcf().subplots_adjust(bottom=0.15, left=0.25)\n",
    "ax.spines['right'].set_visible(False)\n",
    "ax.spines['top'].set_visible(False)\n",
    "\n",
    "modGrid = list(np.linspace(0, 1, 20))+[3]\n",
    "zetaHatsMod = list(zetaHats)+[0]\n",
    "print(modGrid)\n",
    "c=380\n",
    "cMax = 530\n",
    "plt.plot(grid_mle[c:cMax], 1-np.cumsum(w_mle/np.sum(w_mle))[c:cMax], label=r'$\\widehat{\\zeta}_{MLE}$', \n",
    "         linestyle=\"-\", linewidth=2, color=\"darkgreen\")\n",
    "plt.plot(modGrid, zetaHatsMod, label=r'$\\widehat{\\zeta}_{KS}$ (ours)', linestyle=\"--\", linewidth=2, color=\"purple\" )\n",
    "#plt.title(\"Our estimator and the MLE plug-in estimate\")\n",
    "plt.plot(modGrid, list(zetaHats_FWER)+[0], label=r'$\\widehat{\\zeta}_{FWER}$ (identification)', color=\"red\", linestyle=\":\", linewidth=2)\n",
    "plt.plot()\n",
    "plt.ylabel(\"Fraction of mass\\nabove threshold\")\n",
    "plt.xlabel(\"Effect Size\")\n",
    "plt.legend()\n",
    "plt.tight_layout(pad=2)\n",
    "plt.savefig(\"MLE-fly.png\")\n",
    "plt.savefig(\"MLE-fly.eps\")\n",
    "plt.savefig(\"MLE-fly.pdf\")\n",
    "plt.show()"
   ]
  }
 ],
 "metadata": {
  "kernelspec": {
   "display_name": "Python 3",
   "language": "python",
   "name": "python3"
  },
  "language_info": {
   "codemirror_mode": {
    "name": "ipython",
    "version": 3
   },
   "file_extension": ".py",
   "mimetype": "text/x-python",
   "name": "python",
   "nbconvert_exporter": "python",
   "pygments_lexer": "ipython3",
   "version": "3.7.4"
  }
 },
 "nbformat": 4,
 "nbformat_minor": 2
}
