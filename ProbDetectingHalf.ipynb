{
 "cells": [
  {
   "cell_type": "markdown",
   "metadata": {},
   "source": [
    "# For different parameterizations of the two-spike Gaussian, determine the empirical probability that the estimate zetaHat(0) exceeds 1/2 zeta*"
   ]
  },
  {
   "cell_type": "code",
   "execution_count": null,
   "metadata": {},
   "outputs": [],
   "source": [
    "from syntheticExperimentWrappers import drawAndEstimate_GaussianTwoSpike\n",
    "import numpy as np\n",
    "import matplotlib.pyplot as plt\n",
    "from time import time\n",
    "from multiprocessing import Pool, freeze_support\n",
    "import pickle\n",
    "import scipy\n",
    "from mpl_toolkits.axes_grid1 import make_axes_locatable\n",
    "import os"
   ]
  },
  {
   "cell_type": "code",
   "execution_count": null,
   "metadata": {},
   "outputs": [],
   "source": [
    "NUM_CORES = 40"
   ]
  },
  {
   "cell_type": "code",
   "execution_count": null,
   "metadata": {},
   "outputs": [],
   "source": [
    "folderName = \"HeatMapZetaHats\"\n",
    "if not os.path.exists(folderName):\n",
    "    os.makedirs(folderName)"
   ]
  },
  {
   "cell_type": "code",
   "execution_count": null,
   "metadata": {},
   "outputs": [],
   "source": [
    "def drawAndEstimate_GaussianTwoSpike_wrapper(threshold, n, zeta, mu2, discretization, sigma, tolerance, estimator, alpha):\n",
    "    zetaHat = drawAndEstimate_GaussianTwoSpike(threshold, n, zeta, mu2, discretization, sigma, tolerance, estimator, alpha)\n",
    "    return zetaHat, mu2, zeta"
   ]
  },
  {
   "cell_type": "code",
   "execution_count": null,
   "metadata": {},
   "outputs": [],
   "source": [
    "maxJobs = NUM_CORES\n",
    "n = 10000\n",
    "discretization = 1000\n",
    "tolerance = 0.001\n",
    "sigma = 1\n",
    "alpha = 0.05\n",
    "numReplicates = 10\n",
    "mu2s = np.linspace(0.1, 2, 30)\n",
    "zetas = np.linspace(0.01, 0.5, 10)\n",
    "threshold = 0\n",
    "\n",
    "# Batching the jobs so we have intermediate saving. This is... not the BEST technique\n",
    "while True:\n",
    "    jobs = []\n",
    "    # Get the job list\n",
    "    for mu2 in mu2s:\n",
    "        for zeta in zetas:\n",
    "            try:  # So we can re-run this code if it stops halfway, without recomputing anything.\n",
    "                zetaHats = pickle.load(open(\"./HeatMapZetaHats/zetaHats_\"+str(n)+str(mu2)+str(zeta)+\".p\", 'rb'))\n",
    "            except:\n",
    "                if len(jobs) + numReplicates <= maxJobs:\n",
    "                    jobs = jobs + [(threshold, n, zeta, mu2, discretization, sigma, tolerance, \"KS\", alpha) for _ in range(numReplicates)]\n",
    "\n",
    "    if len(jobs) == 0:\n",
    "        break   # No more jobs\n",
    "        \n",
    "    print(len(jobs), \"jobs will be processed across\", NUM_CORES, \"cores\")\n",
    "    with Pool(NUM_CORES) as p:\n",
    "        results = p.starmap(drawAndEstimate_GaussianTwoSpike_wrapper, jobs)\n",
    "        \n",
    "    for mu2 in mu2s:\n",
    "        for zeta in zetas:\n",
    "            zetaHats = [zetaHat for (zetaHat, m, z) in results if m==mu2 and z==zeta]\n",
    "            if len(zetaHats) > 0:  # If we did this job in this round\n",
    "                pickle.dump(zetaHats, open(\"./HeatMapZetaHats/zetaHats_\"+str(n)+str(mu2)+str(zeta)+\".p\", 'wb'))"
   ]
  },
  {
   "cell_type": "code",
   "execution_count": null,
   "metadata": {},
   "outputs": [],
   "source": [
    "FRAC=0.5\n",
    "\n",
    "# Set up an array to hold the saved data\n",
    "fracZetaHatsGtrHalf = np.zeros((len(mu2s), len(zetas)))\n",
    "\n",
    "for i, gamma in enumerate(mu2s):\n",
    "    for j, zeta in enumerate(zetas):\n",
    "        zetaHats = pickle.load(open(\"./HeatMapZetaHats/zetaHats_\"+str(n)+str(gamma)+str(zeta)+\".p\", 'rb'))\n",
    "        fracZetaHatsGtrHalf[i, j] = sum([z > zeta*FRAC for z in zetaHats])/len(zetaHats)\n",
    "        \n",
    "   "
   ]
  },
  {
   "cell_type": "code",
   "execution_count": null,
   "metadata": {},
   "outputs": [],
   "source": [
    "plt.rcParams[\"image.cmap\"] = 'Blues'\n",
    "plt.rcParams[\"font.size\"] = 16\n",
    "plt.rcParams[\"figure.figsize\"] = [10,15]\n",
    "ax = plt.subplot(111)\n",
    "plt.tight_layout(pad=2)\n",
    "im = ax.imshow(np.flipud(np.transpose(fracZetaHatsGtrHalf)), extent=(min(mu2s), max(mu2s), min(zetas), max(zetas)), vmin=0, vmax=1)\n",
    "plt.xlabel(r'Effect size of alternate hypotheses, $\\gamma_*$')\n",
    "plt.ylabel(r'Fraction of non-null'+str(\"\\n\")+'hypotheses $\\zeta_*$')\n",
    "\n",
    "divider = make_axes_locatable(ax)\n",
    "cax = divider.append_axes(\"right\", size='2%', pad=-2.3)\n",
    "plt.colorbar(im, cax=cax)\n",
    "\n",
    "ax.set_aspect(1.8)\n",
    "plt.tight_layout()\n",
    "plt.savefig(\"HeatmapHalf.png\")\n",
    "plt.savefig(\"HeatmapHalf.eps\")\n",
    "plt.show()"
   ]
  },
  {
   "cell_type": "code",
   "execution_count": null,
   "metadata": {},
   "outputs": [],
   "source": []
  }
 ],
 "metadata": {
  "kernelspec": {
   "display_name": "Python 3",
   "language": "python",
   "name": "python3"
  },
  "language_info": {
   "codemirror_mode": {
    "name": "ipython",
    "version": 3
   },
   "file_extension": ".py",
   "mimetype": "text/x-python",
   "name": "python",
   "nbconvert_exporter": "python",
   "pygments_lexer": "ipython3",
   "version": "3.7.4"
  }
 },
 "nbformat": 4,
 "nbformat_minor": 2
}
