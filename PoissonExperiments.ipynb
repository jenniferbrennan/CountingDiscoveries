{
 "cells": [
  {
   "cell_type": "markdown",
   "metadata": {},
   "source": [
    "# Demonstrate our estimator for Poisson observations"
   ]
  },
  {
   "cell_type": "code",
   "execution_count": null,
   "metadata": {},
   "outputs": [],
   "source": [
    "import numpy as np\n",
    "from estimator import KS_test, estimateEntireLine\n",
    "from sampling_utils import getSamples_poisson\n",
    "from syntheticExperimentWrappers import drawAndEstimate_continuousDist\n",
    "from utils import get_counts\n",
    "from FWER_utils import estimateZeta_FWER_manyThresholds_parallel\n",
    "import matplotlib.pyplot as plt\n",
    "import scipy\n",
    "import os"
   ]
  },
  {
   "cell_type": "code",
   "execution_count": null,
   "metadata": {},
   "outputs": [],
   "source": [
    "# The true distribution nu* has 85% of the mass at rate 1 (the 'null' in this setting),\n",
    "#   and 15% of the mass beta-distributed at higher values\n",
    "dist = [scipy.stats.bernoulli(1),  # The null hypothesis; mean is 1\n",
    "          scipy.stats.beta(a=6, b=8, scale=6, loc=2)]\n",
    "prop = [0.85, 0.15]\n",
    "\n",
    "# Ask \"what fraction of observations have true rate above gamma?\" for 30 regularly-spaced gamma, and one large value\n",
    "# (so we can get detail in the region where our estimator is nonzero, without wasting computation on a bunch of zeros)\n",
    "mu2 = 5\n",
    "gammas = list(np.linspace(1, 4.1, 30)) + [mu2+1]\n",
    "n = 100000\n",
    "alpha = 0.05\n",
    "tolerance = 0.01\n",
    "\n",
    "# Run the simulated experiment\n",
    "observations, zetaHats = drawAndEstimate_continuousDist(distributionComponents=dist, \n",
    "                                                        mixingProportions=prop, \n",
    "                                                        n=n, \n",
    "                                                        tolerance=tolerance, \n",
    "                                                        alpha=alpha, \n",
    "                                                        gammas=gammas,\n",
    "                                                        discretization=1000, \n",
    "                                                        distribution=\"poi\")\n",
    "\n",
    "numCores = 10   # For parallelizing this computation across thresholds\n",
    "zetaHats_FWER = estimateZeta_FWER_manyThresholds_parallel(observations, gammas, \n",
    "                                                 alpha=0.05, \n",
    "                                                 distribution=\"poi\",\n",
    "                                                         numCores=numCores)"
   ]
  },
  {
   "cell_type": "code",
   "execution_count": null,
   "metadata": {},
   "outputs": [],
   "source": [
    "plt.rcParams[\"figure.figsize\"] = [4,3.5]\n",
    "#plt.rcParams[\"figure.figsize\"] = [6,3]   # For the poster\n",
    "plt.rcParams[\"font.size\"] = 16\n",
    "ax = plt.subplot(111)\n",
    "plt.gcf().subplots_adjust(bottom=0.15, left=0.25)\n",
    "ax.spines['right'].set_visible(False)\n",
    "ax.spines['top'].set_visible(False)\n",
    "plt.gca().axes.get_yaxis().set_ticks([])\n",
    "\n",
    "plt.hist(observations)\n",
    "plt.xlabel(\"Test statistic\")\n",
    "plt.ylabel(\"Count\")\n",
    "plt.tight_layout(pad=2)\n",
    "\n",
    "folderName = \"poissonPlots\"\n",
    "if not os.path.exists(folderName):\n",
    "    os.makedirs(folderName)\n",
    "plt.savefig(folderName+\"/poi-testStats.png\")\n",
    "plt.savefig(folderName+\"/poi-testStats.eps\")\n",
    "plt.savefig(folderName+\"/poi-testStats.pdf\")\n",
    "plt.show()"
   ]
  },
  {
   "cell_type": "code",
   "execution_count": null,
   "metadata": {},
   "outputs": [],
   "source": [
    "ax = plt.subplot(111)\n",
    "plt.gcf().subplots_adjust(bottom=0.15, left=0.25)\n",
    "ax.spines['right'].set_visible(False)\n",
    "ax.spines['top'].set_visible(False)\n",
    "\n",
    "plottingGrid = np.linspace(1, mu2+1, 500)\n",
    "ax.plot(plottingGrid, sum(np.array([p-p*c.cdf(plottingGrid) for (p, c) in zip(prop[1:], dist[1:])])), \n",
    "        label=r'$\\zeta_{\\nu_*}$', linewidth=2)\n",
    "ax.plot(gammas, zetaHats, label=r'$\\widehat{\\zeta}_{KS}$', color=\"purple\", linestyle=\"--\", linewidth=2)\n",
    "ax.plot(gammas, zetaHats_FWER, label=r'$\\widehat{\\zeta}_{FWER}$', color=\"red\", linestyle=\":\", linewidth=2)\n",
    "#plt.legend(loc=\"upper right\")  #Comment in for the poster\n",
    "plt.ylabel(\"Fraction of mass\\nabove threshold\")\n",
    "plt.xlabel(\"Threshold\")\n",
    "plt.tight_layout(pad=2)\n",
    "plt.savefig(folderName+\"/poi-est.png\")\n",
    "plt.savefig(folderName+\"/poi-est.eps\")\n",
    "plt.savefig(folderName+\"/poi-est.pdf\")\n",
    "plt.show()"
   ]
  },
  {
   "cell_type": "code",
   "execution_count": null,
   "metadata": {},
   "outputs": [],
   "source": []
  }
 ],
 "metadata": {
  "kernelspec": {
   "display_name": "Python 3",
   "language": "python",
   "name": "python3"
  },
  "language_info": {
   "codemirror_mode": {
    "name": "ipython",
    "version": 3
   },
   "file_extension": ".py",
   "mimetype": "text/x-python",
   "name": "python",
   "nbconvert_exporter": "python",
   "pygments_lexer": "ipython3",
   "version": "3.7.4"
  }
 },
 "nbformat": 4,
 "nbformat_minor": 2
}
