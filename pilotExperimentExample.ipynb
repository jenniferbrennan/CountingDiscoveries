{
 "cells": [
  {
   "cell_type": "code",
   "execution_count": null,
   "metadata": {},
   "outputs": [],
   "source": [
    "# This notebook demonstrates usage of our estimator.\n",
    "# We will re-create Figure 2 from the paper"
   ]
  },
  {
   "cell_type": "code",
   "execution_count": null,
   "metadata": {},
   "outputs": [],
   "source": [
    "import numpy as np\n",
    "import scipy\n",
    "from utils import KS_test, get_counts, estimateEntireLine, estimateZeta_FWER\n",
    "from sampling_utils import getSamples_gaussian\n",
    "from FWER_utils import estimateZeta_FWER_manyThresholds_parallel\n",
    "from multiprocessing import Pool\n",
    "import matplotlib.pyplot as plt"
   ]
  },
  {
   "cell_type": "code",
   "execution_count": null,
   "metadata": {},
   "outputs": [],
   "source": [
    "# Set this based on your machine. This determines how parallelized the FWER computations are\n",
    "# Note there is a separate setting for parallelizing our estimator in ``utils.py''\n",
    "NUM_CORES = 10"
   ]
  },
  {
   "cell_type": "code",
   "execution_count": null,
   "metadata": {},
   "outputs": [],
   "source": [
    "# Gaussian noise with variance 1\n",
    "n = 100000\n",
    "sigma = 1\n",
    "discretization =1000\n",
    "alpha = 0.05\n",
    "\n",
    "# Define the mixing distribution nu*\n",
    "dist = [scipy.stats.bernoulli(0),  # The null hypothesis; mean is always zero\n",
    "         scipy.stats.beta(a=8, b=4, scale=4)]\n",
    "prop = [0.85,\n",
    "          0.15]\n",
    "\n",
    "# Draw samples X_i, which are z-scores\n",
    "obs, grid = getSamples_gaussian(n, prop, dist, discretization, sigma)\n",
    "counts = get_counts(obs, grid)\n",
    "\n",
    "# Plot the samples\n",
    "plt.plot(grid, counts)\n",
    "plt.xlabel(\"Z-score\")\n",
    "\n",
    "# Compute and plot the critical value for Bonferroni correction\n",
    "fwer_cutoff = scipy.stats.norm.ppf((1-alpha/n), scale=1)\n",
    "plt.axvline(x=fwer_cutoff, ymin=0, ymax=1, color='k', linestyle='--', label=\"Bonferroni\\ncorrected\\ncritical value\")\n",
    "plt.show()\n",
    "\n",
    "print(\"z-score would need to be at least\", fwer_cutoff, \"to reject the null\")\n",
    "numRejected = np.sum([x > fwer_cutoff for x in obs])\n",
    "print(numRejected, \"nulls rejected,\", 100*numRejected/n, \"%\")"
   ]
  },
  {
   "cell_type": "code",
   "execution_count": null,
   "metadata": {},
   "outputs": [],
   "source": [
    "# Estimate the number of hypotheses above each effect size, for a user-specified set of effect sizes\n",
    "# Don't have the patience? Decrease the \"discretization\" in the previous cell to 500. The results will be less\n",
    "#   accurate, but the optimization goes much faster.\n",
    "# If you only have one core, you can turn \"verbose\" to True. With multiple cores, all the verbose output is\n",
    "#   interleaved.\n",
    "gammas = list(np.linspace(0, 3, 30)) + [5]\n",
    "zetaHats = estimateEntireLine(obs=obs, \n",
    "                          tolerance=0.01,\n",
    "                          alpha=alpha,\n",
    "                          hypTest=KS_test,\n",
    "                          grid=grid,\n",
    "                          gammas=gammas, \n",
    "                          sigma=sigma, \n",
    "                          verbose=False,\n",
    "                         parallel=True)"
   ]
  },
  {
   "cell_type": "code",
   "execution_count": null,
   "metadata": {},
   "outputs": [],
   "source": [
    "# Compare to FWER: At every effect size, see how many hypotheses can be rejected as significantly above that effect\n",
    "zetaHats_FWER = estimateZeta_FWER_manyThresholds_parallel(obs, gammas, alpha, \n",
    "                                                          sigma=np.sqrt(sigmaSquared), t=None, \n",
    "                                                          distribution=\"normal\", numCores=NUM_CORES)"
   ]
  },
  {
   "cell_type": "code",
   "execution_count": null,
   "metadata": {},
   "outputs": [],
   "source": [
    "# Plot our estimate, the FWER estimate, and the truth\n",
    "plottingGrid = np.linspace(0, max(gammas), 500)\n",
    "plt.plot(plottingGrid, sum(np.array([p-p*c.cdf(plottingGrid) for (p, c) in zip(prop[1:], dist[1:])])), label=\"Truth\")\n",
    "plt.plot(gammas, zetaHats, label=\"Estimate\", color=\"purple\", linestyle='--')\n",
    "plt.plot(gammas, zetaHats_FWER, label=\"FWER Estimate\", color=\"red\", linestyle=\":\")\n",
    "plt.legend(loc=\"upper right\")\n",
    "plt.ylabel(\"Fraction of mass exceeding threshold\")\n",
    "plt.xlabel(\"Threshold\")\n",
    "plt.show()"
   ]
  },
  {
   "cell_type": "code",
   "execution_count": null,
   "metadata": {},
   "outputs": [],
   "source": [
    "# Step 3: Experimental Design\n",
    "\n",
    "# The 20th index corresponds to gamma = 2.06, and is what we used in the paper\n",
    "# You can choose your own index. For an even more interactive experience, choose\n",
    "# it based on the results from the previous cell!\n",
    "gap = gammas[20] # The effect size we would like to find\n",
    "zetaGuaranteed = zetaHats[20] # The zeta we are guaranteed\n",
    "print(\"experiment will be designed to identify effects above\", gap)\n",
    "print(\"and will recover at least\", zetaGuaranteed, \"discoveries\")\n",
    "\n",
    "# Draw from the same distribution, with more replicates\n",
    "numReplicates = int(np.log(n)*np.log(1/zetaGuaranteed)/(gap**2))\n",
    "print(\"Taking\", numReplicates, \"replicates\")\n",
    "obs, grid = getSamples(n, prop, dist, discretization=1000, sigmaSquared=1/numReplicates, padding=1)\n",
    "fwer_cutoff = scipy.stats.norm.ppf(1-alpha/n, scale=np.sqrt(1/numReplicates))\n",
    "discoveries = np.array([x for x in obs if x > fwer_cutoff])\n",
    "print(len(discoveries))\n",
    "\n",
    "plt.plot(grid, get_counts(obs, grid))\n",
    "plt.xlabel(\"Z-score\")\n",
    "plt.ylabel(r'Count')\n",
    "fwer_cutoff = scipy.stats.norm.ppf((1-alpha/n), scale=1/numReplicates)\n",
    "plt.axvline(x=fwer_cutoff, ymin=0, ymax=1, color='k', linestyle='--', label=\"Bonferroni corrected\\ncritical value\")\n",
    "plt.legend()\n",
    "plt.show()"
   ]
  },
  {
   "cell_type": "code",
   "execution_count": null,
   "metadata": {},
   "outputs": [],
   "source": []
  }
 ],
 "metadata": {
  "kernelspec": {
   "display_name": "Python 3",
   "language": "python",
   "name": "python3"
  },
  "language_info": {
   "codemirror_mode": {
    "name": "ipython",
    "version": 3
   },
   "file_extension": ".py",
   "mimetype": "text/x-python",
   "name": "python",
   "nbconvert_exporter": "python",
   "pygments_lexer": "ipython3",
   "version": "3.7.4"
  }
 },
 "nbformat": 4,
 "nbformat_minor": 2
}
