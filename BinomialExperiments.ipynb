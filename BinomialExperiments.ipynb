{
 "cells": [
  {
   "cell_type": "markdown",
   "metadata": {},
   "source": [
    "# Demonstrate our estimator for Binomial observations"
   ]
  },
  {
   "cell_type": "code",
   "execution_count": null,
   "metadata": {},
   "outputs": [],
   "source": [
    "import numpy as np\n",
    "from estimator import KS_test, estimateEntireLine\n",
    "from sampling_utils import getSamples_binomial\n",
    "from syntheticExperimentWrappers import drawAndEstimate_continuousDist\n",
    "from utils import get_counts\n",
    "from FWER_utils import estimateZeta_FWER_manyThresholds_parallel\n",
    "import matplotlib.pyplot as plt\n",
    "import scipy\n",
    "import os"
   ]
  },
  {
   "cell_type": "code",
   "execution_count": null,
   "metadata": {},
   "outputs": [],
   "source": [
    "# The true distribution nu* has 80% of the mass at P(success)=1/2 (the 'null' in this setting),\n",
    "#   and 20% of the mass beta-distributed at higher values\n",
    "# Note, we add 1/2 to all means when we draw from the binomial, so that 0 is the 'null hypothesis' of P(success)=1/2\n",
    "dist = [scipy.stats.bernoulli(0),\n",
    "         scipy.stats.beta(a=4, b=8, scale=0.45, loc=0.05)]\n",
    "prop = [0.8, 0.2]\n",
    "\n",
    "n = 100000\n",
    "t = 20   # 20 trials for each X_i\n",
    "# Ask \"what fraction of observations have true P(success) above gamma?\" for 30 regularly-spaced gamma, and one large value\n",
    "# (so we can get detail in the region where our estimator is nonzero, without wasting computation on a bunch of zeros)\n",
    "gammas = list(np.linspace(0.5, 0.75, 30)) + [1]\n",
    "tolerance = 0.01\n",
    "alpha = 0.05\n",
    "\n",
    "# Run the simulated experiment\n",
    "observations, zetaHats = drawAndEstimate_continuousDist(distributionComponents=dist, \n",
    "                                                        mixingProportions=prop, \n",
    "                                                        n=n, \n",
    "                                                        tolerance=tolerance, \n",
    "                                                        alpha=alpha, \n",
    "                                                        gammas=gammas, \n",
    "                                                        t=t, \n",
    "                                                        discretization=1000, \n",
    "                                                        distribution=\"binom\")\n",
    "\n",
    "numCores = 10   # For parallelizing this computation across thresholds\n",
    "zetaHats_FWER = estimateZeta_FWER_manyThresholds_parallel(observations, gammas, \n",
    "                                                          alpha=alpha, t=t, \n",
    "                                                          distribution='binom',\n",
    "                                                         numCores=numCores)"
   ]
  },
  {
   "cell_type": "code",
   "execution_count": null,
   "metadata": {},
   "outputs": [],
   "source": [
    "plt.rcParams[\"figure.figsize\"] = [4,3.5]\n",
    "plt.rcParams[\"font.size\"] = 16\n",
    "ax = plt.subplot(111)\n",
    "plt.gcf().subplots_adjust(bottom=0.15, left=0.25)\n",
    "ax.spines['right'].set_visible(False)\n",
    "ax.spines['top'].set_visible(False)\n",
    "plt.gca().axes.get_yaxis().set_ticks([])\n",
    "plt.tight_layout(pad=2)\n",
    "\n",
    "plt.hist(observations)\n",
    "plt.xlabel(\"Test statistic\")\n",
    "plt.ylabel(\"Count\")\n",
    "\n",
    "folderName = \"binomPlots\"\n",
    "if not os.path.exists(folderName):\n",
    "    os.makedirs(folderName)\n",
    "plt.savefig(folderName+\"/bin-testStats.png\")\n",
    "plt.savefig(folderName+\"/bin-testStats.eps\")\n",
    "plt.show()"
   ]
  },
  {
   "cell_type": "code",
   "execution_count": null,
   "metadata": {},
   "outputs": [],
   "source": [
    "ax = plt.subplot(111)\n",
    "plt.gcf().subplots_adjust(bottom=0.15, left=0.25)\n",
    "ax.spines['right'].set_visible(False)\n",
    "ax.spines['top'].set_visible(False)\n",
    "\n",
    "plt.tight_layout(pad=2)\n",
    "\n",
    "plottingGrid = np.linspace(0.5, 1, 500)\n",
    "ax.plot(plottingGrid, sum(np.array([p-p*c.cdf(plottingGrid-0.5) for (p, c) in zip(prop[1:], dist[1:])])), \n",
    "        label=r'$\\zeta_{\\nu_*}$', linewidth=2)\n",
    "ax.plot(gammas, zetaHats, label=r'$\\widehat{\\zeta}_{KS}$', color=\"purple\", linestyle=\"--\", linewidth=2)\n",
    "ax.plot(gammas, zetaHats_FWER, label=r'$\\widehat{\\zeta}_{FWER}$', color=\"red\", linestyle=\":\", linewidth=2)\n",
    "plt.legend()\n",
    "plt.ylabel(\"Fraction of mass\\nabove threshold\")\n",
    "plt.xlabel(\"Threshold\")\n",
    "plt.savefig(folderName+\"/bin-est.png\")\n",
    "plt.savefig(folderName+\"/bin-est.eps\")\n",
    "plt.savefig(folderName+\"/bin-est.pdf\")\n",
    "plt.show()"
   ]
  },
  {
   "cell_type": "code",
   "execution_count": null,
   "metadata": {},
   "outputs": [],
   "source": []
  }
 ],
 "metadata": {
  "kernelspec": {
   "display_name": "Python 3",
   "language": "python",
   "name": "python3"
  },
  "language_info": {
   "codemirror_mode": {
    "name": "ipython",
    "version": 3
   },
   "file_extension": ".py",
   "mimetype": "text/x-python",
   "name": "python",
   "nbconvert_exporter": "python",
   "pygments_lexer": "ipython3",
   "version": "3.7.4"
  }
 },
 "nbformat": 4,
 "nbformat_minor": 2
}
